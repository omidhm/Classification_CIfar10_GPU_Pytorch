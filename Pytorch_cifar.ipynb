{
 "cells": [
  {
   "cell_type": "code",
   "execution_count": 1,
   "id": "773f8571",
   "metadata": {},
   "outputs": [
    {
     "name": "stdout",
     "output_type": "stream",
     "text": [
      "Files already downloaded and verified\n",
      "Files already downloaded and verified\n"
     ]
    }
   ],
   "source": [
    "import torch\n",
    "import torch.nn as nn\n",
    "import torchvision\n",
    "import torchvision.transforms as transforms\n",
    "import numpy as np\n",
    "import socket\n",
    "from socket import *\n",
    "import time\n",
    "import os\n",
    "\n",
    "\n",
    "learning_rate = 0.001\n",
    "\n",
    "\n",
    "\n",
    "trainset = torchvision.datasets.CIFAR10(root='./data', train=True , download=True, transform=transforms.ToTensor())\n",
    "testset = torchvision.datasets.CIFAR10(root='./data', train=False,download=True, transform=transforms.ToTensor())  \n",
    "\n",
    "train_loader = torch.utils.data.DataLoader(trainset, batch_size=20,shuffle=True)                                       \n",
    "testloader = torch.utils.data.DataLoader(testset, batch_size=4,shuffle=False, num_workers=2)\n",
    "\n",
    "classes = ('plane', 'car', 'bird', 'cat','deer', 'dog', 'frog', 'horse', 'ship', 'truck')\n",
    "\n",
    "\n",
    "class model(nn.Module):\n",
    "    def __init__(self, num_classes=10):\n",
    "        super(model, self).__init__()\n",
    "        self.conv1 = torch.nn.Sequential()\n",
    "        self.conv1.add_module(\"conv1\", nn.Conv2d(3, 32, 3, 1, 2))\n",
    "        self.conv1.add_module(\"relu1\", torch.nn.ReLU())\n",
    "        self.conv2 = torch.nn.Sequential()\n",
    "        self.conv2.add_module(\"conv2\", nn.Conv2d(32, 64, 3, 1, 2))\n",
    "        self.conv2.add_module(\"relu2\", torch.nn.ReLU())\n",
    "        self.conv2.add_module(\"pool2\", torch.nn.MaxPool2d(2,2))\n",
    "        self.drop1 = torch.nn.Dropout(0.25)\n",
    "\n",
    "        self.conv3 = torch.nn.Sequential()\n",
    "        self.conv3.add_module(\"conv3\", nn.Conv2d(64, 128, 3, 1, 2))\n",
    "        self.conv3.add_module(\"relu3\", torch.nn.ReLU())\n",
    "        self.conv3.add_module(\"pool3\", torch.nn.MaxPool2d(2))\n",
    "\n",
    "        self.conv4 = torch.nn.Sequential()\n",
    "        self.conv4.add_module(\"conv4\", nn.Conv2d(128, 128, 3, 1, 2, padding_mode='SAME'))\n",
    "        self.conv4.add_module(\"relu4\", torch.nn.ReLU())\n",
    "        self.conv4.add_module(\"pool4\", torch.nn.MaxPool2d(2))\n",
    "        self.drop2 = torch.nn.Dropout(0.25)\n",
    "\n",
    "        self.dense1 = torch.nn.Sequential()\n",
    "        self.dense1.add_module(\"fc1\", nn.Linear(128 * 6 * 6, 1500))\n",
    "        self.dense2 = torch.nn.Sequential()\n",
    "        self.drop3 = torch.nn.Dropout(0.5)\n",
    "\n",
    "        self.dense2.add_module(\"fc2\", nn.Linear(1500, num_classes))\n",
    "        \n",
    "    def forward(self,x):\n",
    "        conv1 = self.conv1(x)\n",
    "        conv2 = self.conv2(conv1)\n",
    "        conv2 = self.drop1(conv2)\n",
    "        conv3 = self.conv3(conv2)\n",
    "        conv4 = self.conv4(conv3)\n",
    "        conv4 = self.drop2(conv4)\n",
    "        conv4 = conv4.reshape(conv4.size(0), -1)\n",
    "        # print(conv2.shape)\n",
    "        fc1 = self.dense1(conv4)\n",
    "        fc1 = self.drop3(fc1)\n",
    "        fc2 = self.dense2(fc1)\n",
    "        return fc2\n"
   ]
  },
  {
   "cell_type": "code",
   "execution_count": null,
   "id": "e3dddf55",
   "metadata": {},
   "outputs": [],
   "source": []
  },
  {
   "cell_type": "code",
   "execution_count": null,
   "id": "04b380cd",
   "metadata": {},
   "outputs": [],
   "source": []
  },
  {
   "cell_type": "code",
   "execution_count": 2,
   "id": "d0ab30ca",
   "metadata": {},
   "outputs": [
    {
     "name": "stdout",
     "output_type": "stream",
     "text": [
      "Current CUDA device: cuda:0\n",
      "Current CUDA device name: NVIDIA GeForce RTX 2080 Ti\n"
     ]
    }
   ],
   "source": [
    "classes = ('plane', 'car', 'bird', 'cat','deer', 'dog', 'frog', 'horse', 'ship', 'truck')\n",
    "\n",
    "device = torch.device(\"cuda:0\" if torch.cuda.is_available() else \"cpu\")\n",
    "print('Current CUDA device: '+str(device))\n",
    "print('Current CUDA device name: '+torch.cuda.get_device_name(device))"
   ]
  },
  {
   "cell_type": "code",
   "execution_count": null,
   "id": "03c390e0",
   "metadata": {},
   "outputs": [],
   "source": []
  },
  {
   "cell_type": "code",
   "execution_count": 3,
   "id": "998e6935",
   "metadata": {},
   "outputs": [],
   "source": [
    "net = model().to(device)"
   ]
  },
  {
   "cell_type": "code",
   "execution_count": 5,
   "id": "aac68791",
   "metadata": {},
   "outputs": [
    {
     "name": "stdout",
     "output_type": "stream",
     "text": [
      "#epoch\n",
      "#epoch\n",
      "#epoch\n",
      "#epoch\n",
      "#epoch\n",
      "#epoch\n",
      "#epoch\n",
      "#epoch\n",
      "#epoch\n"
     ]
    }
   ],
   "source": [
    "num_epochs = 10\n",
    "criterion = nn.CrossEntropyLoss()\n",
    "optimizer = torch.optim.Adam(net.parameters(), lr = learning_rate)\n",
    "for h in range(1,num_epochs):\n",
    "    print(\"#epoch\")\n",
    "    for i, data in enumerate(train_loader, 0):\n",
    "        inputs, labels = data[0].to(device), data[1].to(device) # send inputs and targets to GPU \n",
    "        optimizer.zero_grad()\n",
    "        # forward + backward\n",
    "        outputs = net(inputs)\n",
    "        loss = criterion(outputs, labels)\n",
    "\n",
    "        loss.backward()\n",
    "        optimizer.step()\n"
   ]
  },
  {
   "cell_type": "code",
   "execution_count": null,
   "id": "9a2e9eaa",
   "metadata": {},
   "outputs": [],
   "source": []
  },
  {
   "cell_type": "code",
   "execution_count": 8,
   "id": "361168df",
   "metadata": {},
   "outputs": [],
   "source": [
    "class_correct = list(0. for i in range(10))\n",
    "class_total = list(0. for i in range(10))\n",
    "with torch.no_grad():\n",
    "    for data in testloader:\n",
    "        images, labels =  data[0].to(device), data[1].to(device)\n",
    "        outputs = net(images).to(device)\n",
    "        _, predicted = torch.max(outputs, 1)\n",
    "        c = (predicted == labels).squeeze()\n",
    "        for i in range(4):\n",
    "            label = labels[i]\n",
    "            class_correct[label] += c[i].item()\n",
    "            class_total[label] += 1\n"
   ]
  },
  {
   "cell_type": "code",
   "execution_count": null,
   "id": "ef20ad97",
   "metadata": {},
   "outputs": [],
   "source": []
  },
  {
   "cell_type": "code",
   "execution_count": 9,
   "id": "95298287",
   "metadata": {},
   "outputs": [
    {
     "name": "stdout",
     "output_type": "stream",
     "text": [
      "Accuracy of plane : 52 %\n",
      "Accuracy of   car : 76 %\n",
      "Accuracy of  bird : 37 %\n",
      "Accuracy of   cat : 43 %\n",
      "Accuracy of  deer : 72 %\n",
      "Accuracy of   dog : 52 %\n",
      "Accuracy of  frog : 71 %\n",
      "Accuracy of horse : 70 %\n",
      "Accuracy of  ship : 85 %\n",
      "Accuracy of truck : 79 %\n"
     ]
    }
   ],
   "source": [
    "\n",
    "for i in range(10):\n",
    "    print('Accuracy of %5s : %2d %%' % (\n",
    "        classes[i], 100 * class_correct[i] / class_total[i]))\n",
    "\n",
    "\n"
   ]
  },
  {
   "cell_type": "code",
   "execution_count": null,
   "id": "39dff782",
   "metadata": {},
   "outputs": [],
   "source": []
  }
 ],
 "metadata": {
  "kernelspec": {
   "display_name": "Python 3",
   "language": "python",
   "name": "python3"
  },
  "language_info": {
   "codemirror_mode": {
    "name": "ipython",
    "version": 3
   },
   "file_extension": ".py",
   "mimetype": "text/x-python",
   "name": "python",
   "nbconvert_exporter": "python",
   "pygments_lexer": "ipython3",
   "version": "3.6.13"
  }
 },
 "nbformat": 4,
 "nbformat_minor": 5
}
